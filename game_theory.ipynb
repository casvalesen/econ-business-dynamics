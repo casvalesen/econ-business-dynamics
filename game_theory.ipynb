{
 "cells": [
  {
   "cell_type": "markdown",
   "metadata": {},
   "source": [
    "## Game theoretic modelling \n",
    "- nashpy: https://nashpy.readthedocs.io/en/stable/index.html\n",
    "- other: https://nashpy.readthedocs.io/en/stable/discussion/other-python-game-theory-libraries.html\n"
   ]
  },
  {
   "cell_type": "code",
   "execution_count": null,
   "metadata": {},
   "outputs": [],
   "source": []
  }
 ],
 "metadata": {
  "language_info": {
   "name": "python"
  },
  "orig_nbformat": 4
 },
 "nbformat": 4,
 "nbformat_minor": 2
}
